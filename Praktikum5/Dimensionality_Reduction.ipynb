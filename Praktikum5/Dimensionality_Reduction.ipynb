{
  "nbformat": 4,
  "nbformat_minor": 0,
  "metadata": {
    "colab": {
      "provenance": [],
      "toc_visible": true,
      "authorship_tag": "ABX9TyM3WdjvYDRtQFkCtKhdl0Vl",
      "include_colab_link": true
    },
    "kernelspec": {
      "name": "python3",
      "display_name": "Python 3"
    },
    "language_info": {
      "name": "python"
    }
  },
  "cells": [
    {
      "cell_type": "markdown",
      "metadata": {
        "id": "view-in-github",
        "colab_type": "text"
      },
      "source": [
        "<a href=\"https://colab.research.google.com/github/ImbangJayoGampito/DIF62130_B_25_2311532002/blob/main/Praktikum5/Dimensionality_Reduction.ipynb\" target=\"_parent\"><img src=\"https://colab.research.google.com/assets/colab-badge.svg\" alt=\"Open In Colab\"/></a>"
      ]
    },
    {
      "cell_type": "code",
      "metadata": {
        "id": "c71ea7c4"
      },
      "source": [
        "import seaborn as sns\n",
        "import numpy as np\n",
        "iris = sns.load_dataset('iris')\n"
      ],
      "execution_count": null,
      "outputs": []
    },
    {
      "cell_type": "code",
      "source": [
        "def mean(x):\n",
        "  return sum(x) / len(x)\n",
        ""
      ],
      "metadata": {
        "id": "7OB84sblX_ez"
      },
      "execution_count": null,
      "outputs": []
    },
    {
      "cell_type": "code",
      "metadata": {
        "id": "0cc0357f"
      },
      "source": [
        "\n",
        "\n",
        "def std_dev(x):\n",
        "  return np.sqrt(sum([(xi - mean(x))**2 for xi in x]) / len(x))\n",
        "\n",
        "# Scale the iris data by standard deviation\n",
        "scaled_iris = iris.copy()\n",
        "for col in scaled_iris.columns[:-1]:  # Exclude the 'species' column\n",
        "  scaled_iris[col] = (scaled_iris[col] - mean(scaled_iris[col])) / std_dev(scaled_iris[col])\n",
        "\n",
        "display(scaled_iris.head())"
      ],
      "execution_count": null,
      "outputs": []
    }
  ]
}