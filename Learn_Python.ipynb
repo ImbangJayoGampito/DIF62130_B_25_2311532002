{
  "nbformat": 4,
  "nbformat_minor": 0,
  "metadata": {
    "colab": {
      "provenance": [],
      "authorship_tag": "ABX9TyNvYL5auYCcZDz06c/edPUc",
      "include_colab_link": true
    },
    "kernelspec": {
      "name": "python3",
      "display_name": "Python 3"
    },
    "language_info": {
      "name": "python"
    }
  },
  "cells": [
    {
      "cell_type": "markdown",
      "metadata": {
        "id": "view-in-github",
        "colab_type": "text"
      },
      "source": [
        "<a href=\"https://colab.research.google.com/github/ImbangJayoGampito/DIF62130_B_25_2311532002/blob/main/Learn_Python.ipynb\" target=\"_parent\"><img src=\"https://colab.research.google.com/assets/colab-badge.svg\" alt=\"Open In Colab\"/></a>"
      ]
    },
    {
      "cell_type": "markdown",
      "source": [
        "#1. Print Statement\n",
        "Print statement adalah salah satu fungsi dasar dalam pemrogrraman python yang dapat dipanggil dengan fungsi print()\n",
        "\n"
      ],
      "metadata": {
        "id": "X9hoZ4UEoIb-"
      }
    },
    {
      "cell_type": "code",
      "execution_count": null,
      "metadata": {
        "colab": {
          "base_uri": "https://localhost:8080/"
        },
        "id": "yAzyhWlxZnJn",
        "outputId": "94b922ab-9254-4cc5-ea67-597060725d15"
      },
      "outputs": [
        {
          "output_type": "stream",
          "name": "stdout",
          "text": [
            "Hello world!\n"
          ]
        }
      ],
      "source": [
        "print(\"Hello world!\")"
      ]
    },
    {
      "cell_type": "markdown",
      "source": [
        "Fungsi print juga dapat mencetak beberapa pernyataan sekaligus dengan menggunakan\n",
        "\n",
        "print(pernyataan1, pernyataan2, pernyataan3, ...)\n"
      ],
      "metadata": {
        "id": "1qoQB2ellpOB"
      }
    },
    {
      "cell_type": "code",
      "source": [
        "print(\"Hello world!\", \"You can append printing in multiple lines\", \"thanks to something called function overload!\")"
      ],
      "metadata": {
        "colab": {
          "base_uri": "https://localhost:8080/"
        },
        "id": "ndrjMagglzGx",
        "outputId": "0d860538-222d-489b-f661-56d0567411c3"
      },
      "execution_count": null,
      "outputs": [
        {
          "output_type": "stream",
          "name": "stdout",
          "text": [
            "Hello world! You can append printing in multiple lines thanks to something called function overload!\n"
          ]
        }
      ]
    },
    {
      "cell_type": "markdown",
      "source": [
        "#2 Variabel\n",
        "Variabel digunakan untuk menyimpan data sementara yang digunakan untuk beberapa operasi di python seperti operasi aritmatika dan operasi logika. Python memiliki beberapa tipe data dasar seperti string, integer, float, boolean, dan list."
      ],
      "metadata": {
        "id": "JSI6deQ3mMZ9"
      }
    },
    {
      "cell_type": "code",
      "source": [
        "hello = \"Hello\"  # Tipe data string\n",
        "meow = 1234 # Tipe data integer\n",
        "pi = 3.14 # Tipe data float\n",
        "this_is_a_boolean = True # Tipe data boolean\n",
        "list_example = [1, 2, 3, 4] # Tipe data list\n",
        "print(list_example)"
      ],
      "metadata": {
        "colab": {
          "base_uri": "https://localhost:8080/"
        },
        "id": "h209RPhunHEm",
        "outputId": "23033bea-00c3-4bd3-819c-3b99ee3363e1"
      },
      "execution_count": null,
      "outputs": [
        {
          "output_type": "stream",
          "name": "stdout",
          "text": [
            "[1, 2, 3, 4]\n"
          ]
        }
      ]
    },
    {
      "cell_type": "markdown",
      "source": [
        "Variabel pada python berupa dinamis sehingga tipe data variabel dapat diubah. Akan tetapi, variabel dapat dianotasikan dengan type hinting sehingga memudahkan untuk menentukan tipe datanya"
      ],
      "metadata": {
        "id": "Lpwi-r2PnogU"
      }
    },
    {
      "cell_type": "code",
      "source": [
        "hello : str = \"Hello\"\n",
        "meow : int = 1234\n",
        "pi  :float =  3.14\n",
        "this_is_a_boolean : bool= True\n",
        "list_example : list = [1, 2, 3, 4]\n",
        "print(list_example)"
      ],
      "metadata": {
        "colab": {
          "base_uri": "https://localhost:8080/"
        },
        "id": "_ezgFjXbnoDV",
        "outputId": "712a4c11-f99e-4606-cabd-d77cddd16a97"
      },
      "execution_count": null,
      "outputs": [
        {
          "output_type": "stream",
          "name": "stdout",
          "text": [
            "[1, 2, 3, 4]\n"
          ]
        }
      ]
    },
    {
      "cell_type": "markdown",
      "source": [
        "Python tidak seperti JavaScript di mana tipe data yang berbeda akan diubah secara implicit (tersembunyi) apabila dilakukan operasi."
      ],
      "metadata": {
        "id": "-lsL6y8zp_C1"
      }
    },
    {
      "cell_type": "code",
      "source": [
        "hello = \"Hello\" + 90 # Akan terjadi error oleh interpreter"
      ],
      "metadata": {
        "colab": {
          "base_uri": "https://localhost:8080/",
          "height": 143
        },
        "id": "J_VdMjBUqYdS",
        "outputId": "bd52f0dc-5c63-4199-a747-834881c2a17b"
      },
      "execution_count": null,
      "outputs": [
        {
          "output_type": "error",
          "ename": "TypeError",
          "evalue": "can only concatenate str (not \"int\") to str",
          "traceback": [
            "\u001b[0;31m---------------------------------------------------------------------------\u001b[0m",
            "\u001b[0;31mTypeError\u001b[0m                                 Traceback (most recent call last)",
            "\u001b[0;32m<ipython-input-8-559cea1e357e>\u001b[0m in \u001b[0;36m<cell line: 0>\u001b[0;34m()\u001b[0m\n\u001b[0;32m----> 1\u001b[0;31m \u001b[0mhello\u001b[0m \u001b[0;34m=\u001b[0m \u001b[0;34m\"Hello\"\u001b[0m \u001b[0;34m+\u001b[0m \u001b[0;36m90\u001b[0m \u001b[0;31m# Akan terjadi error oleh interpreter\u001b[0m\u001b[0;34m\u001b[0m\u001b[0;34m\u001b[0m\u001b[0m\n\u001b[0m",
            "\u001b[0;31mTypeError\u001b[0m: can only concatenate str (not \"int\") to str"
          ]
        }
      ]
    },
    {
      "cell_type": "markdown",
      "source": [
        "#3 Fungsi\n",
        "Fungsi adalah salah satu konsep di mana programmer dapat menentukan sebuah input untuk melakukan proses dan (kadang-kadang) menghasilkan sebuah output.\n",
        "\n",
        "Fungsi memiliki parameter dan argument\n",
        "\n",
        "Parameter -> Parameter yang diperlukan dan digunakan di dalam fungsi (misalnya menambah nomor menjadi 2)\n",
        "\n",
        "Argument -> Harga yang dimasukkan pada fungsi"
      ],
      "metadata": {
        "id": "0GJULpX0oQTn"
      }
    },
    {
      "cell_type": "code",
      "source": [
        "def add_two(x): # Parameter yang digunakan oleh fungsi yaitu x\n",
        "  return x+2 # Harga yang dikembalikan fungsi ini yaitu harga x ditambah 2\n",
        "\n",
        "print(add_two(2))\n",
        "print(add_two(5))\n",
        "print(add_two(9))"
      ],
      "metadata": {
        "colab": {
          "base_uri": "https://localhost:8080/"
        },
        "id": "IfKCkltCpO2o",
        "outputId": "792575d1-89e0-4022-f4c0-9fc5532f6d57"
      },
      "execution_count": null,
      "outputs": [
        {
          "output_type": "stream",
          "name": "stdout",
          "text": [
            "4\n",
            "7\n",
            "11\n"
          ]
        }
      ]
    },
    {
      "cell_type": "markdown",
      "source": [
        "#4. Pernyataan Kondisional\n",
        "Pernyataan ini memiliki 2 blok berdasarkan kondisi, yaitu:\n",
        "\n",
        "1. Pernyataan If -> kode dalam if dijalankan ketika kondisi true\n",
        "\n",
        "2. Pernyataan else -> kode dalam else dijalankan ketika kondisi false\n",
        "\n",
        "Pernyataan kondisional dapat dirantai dengan pernyataan elif di mana akan dijalankan blok kode ketika kondisi pada pernyataan kondisional di atas false."
      ],
      "metadata": {
        "id": "-ZZFIdMDqinM"
      }
    },
    {
      "cell_type": "code",
      "source": [
        "def checkGrade(score):\n",
        "    grade = \"\"  # Mulaikan variabel kosong supaya scope variabel tidak rancu\n",
        "    if score >= 90 and score <= 100:\n",
        "        grade = \"A\"\n",
        "    elif score >= 80:\n",
        "        grade = \"B\"\n",
        "    elif score >= 70:\n",
        "        grade = \"C\"\n",
        "    elif score >= 60:\n",
        "        grade = \"D\"\n",
        "    elif score >= 0:\n",
        "        grade = \"F\"  # Ketika seluruh pernyataan if salah, maka tetapkan grade menjadi \"F\"\n",
        "\n",
        "    return grade\n",
        "\n",
        "# Example usage\n",
        "score = 75\n",
        "print(f\"The grade for a score of {score} is: {checkGrade(score)}\")"
      ],
      "metadata": {
        "colab": {
          "base_uri": "https://localhost:8080/"
        },
        "id": "NOpYNQkrsWiF",
        "outputId": "519fec51-babe-4270-bef3-98f2b686de73"
      },
      "execution_count": null,
      "outputs": [
        {
          "output_type": "stream",
          "name": "stdout",
          "text": [
            "The grade for a score of 75 is: C\n"
          ]
        }
      ]
    }
  ]
}